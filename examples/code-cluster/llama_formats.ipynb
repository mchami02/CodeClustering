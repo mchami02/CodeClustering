{
 "cells": [
  {
   "cell_type": "code",
   "execution_count": null,
   "metadata": {},
   "outputs": [],
   "source": [
    "### Works well for the first cluster\n",
    "def query(codes):\n",
    "    message = \"\"\n",
    "    # model_setup = \"The following are your instructions on how to answer me : \\n\"\n",
    "    model_setup = \"System : You are an assistant that summarizes code snippets. The user gives you up to 10 code snippets, and you need to explain to the user what they do. \"\n",
    "    model_setup += \"\\n\\n\"\n",
    "    # model_setup = \"What do the code snippets in the cluster do? Answer me in less than 50 words \\n\"\n",
    "    code_snippets = \"User : Please give a full and complete answer. What do the following code snippets do: \\n\"\n",
    "    for i, c in enumerate(codes):\n",
    "        code_snippets += f\"Code snippet {i} : \\n\"\n",
    "        code_snippets += c\n",
    "        code_snippets += \"\\n\"\n",
    "\n",
    "    message += model_setup\n",
    "    message += code_snippets\n",
    "    response = requests.post(API_URL, headers=headers, json={\"inputs\" : message})\n",
    "    return response.json()"
   ]
  },
  {
   "cell_type": "code",
   "execution_count": null,
   "metadata": {},
   "outputs": [],
   "source": [
    "### Works well for the first 6 clusters\n",
    "def query(codes):\n",
    "    message = \"\"\n",
    "    # model_setup = \"The following are your instructions on how to answer me : \\n\"\n",
    "    model_setup = \"System : You are an assistant that summarizes code blocks. The user gives you up to 10 code blocks, and you need to explain to the user what they do. Anwser concisely in less than 50 words. For example, for some cluster you would write : Transforms the data using a specific scaler and then trains it and tests it.\\n\"\n",
    "    \n",
    "    model_setup += \"\\n\\n\"\n",
    "    # model_setup = \"What do the code snippets in the cluster do? Answer me in less than 50 words \\n\"\n",
    "    code_snippets = \"User : Please give a full and complete answer. What do the following code blocks do in common: \\n\"\n",
    "    for i, c in enumerate(codes):\n",
    "        code_snippets += f\"Code block {i} : \\n\"\n",
    "        code_snippets += c\n",
    "        code_snippets += \"\\n\"\n",
    "\n",
    "    message += model_setup\n",
    "    message += code_snippets\n",
    "    message += \"\\n\\n\"\n",
    "    response = requests.post(API_URL, headers=headers, json={\"inputs\" : message})\n",
    "    return response.json()"
   ]
  }
 ],
 "metadata": {
  "language_info": {
   "name": "python"
  }
 },
 "nbformat": 4,
 "nbformat_minor": 2
}
